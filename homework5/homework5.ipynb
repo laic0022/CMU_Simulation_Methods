{
 "cells": [
  {
   "cell_type": "markdown",
   "metadata": {},
   "source": [
    "Chia-Wei Lai | clai2\n",
    "<h3><center>Simulation Methods</center></h3>\n",
    "<h3><center>46-773</center></h3>\n",
    "<h3><center>Homework #5</center></h3>"
   ]
  },
  {
   "cell_type": "code",
   "execution_count": 317,
   "metadata": {},
   "outputs": [],
   "source": [
    "import numpy as np\n",
    "import scipy.stats as stats"
   ]
  },
  {
   "cell_type": "markdown",
   "metadata": {},
   "source": [
    "1) **Replicating Broadie and Glasserman “Greeks” methodology.**"
   ]
  },
  {
   "cell_type": "code",
   "execution_count": 318,
   "metadata": {},
   "outputs": [],
   "source": [
    "# Parameters\n",
    "S0 = 100\n",
    "K = 100\n",
    "r = 0.1\n",
    "q = 0.03\n",
    "sigma = 0.25\n",
    "T = 0.2\n",
    "n = 10000\n",
    "h = 0.0001\n",
    "\n",
    "# Payoff function\n",
    "def payoff(ST, K):\n",
    "    return np.maximum(ST - K, 0)\n",
    "\n",
    "# Delta estimates\n",
    "def resimulation_delta(S0, h, K, T, r, q, sigma, n, control = False):\n",
    "    # np.random.seed(42)\n",
    "    z = np.random.normal(size=n)\n",
    "\n",
    "    ST_up = (S0 + h) * np.exp((r - q - 0.5 * sigma**2) * T + sigma * np.sqrt(T) * z)\n",
    "    ST_down = (S0 - h) * np.exp((r - q - 0.5 * sigma**2) * T + sigma * np.sqrt(T) * z)\n",
    "\n",
    "    mc_delta = np.exp(-r * T) * (payoff(ST_up, K) - payoff(ST_down, K)) / (2 * h)\n",
    "\n",
    "    if control == False:\n",
    "        delta = np.mean(mc_delta)\n",
    "        delta_std = np.std(mc_delta, ddof = 1) / np.sqrt(n)\n",
    "    else:\n",
    "        final_price = S0 * np.exp((r - q - 0.5 * sigma**2) * T + sigma * np.sqrt(T) * z)\n",
    "        \n",
    "        cov = np.cov(final_price, mc_delta, ddof = 1)\n",
    "        a_hat = cov[0, 1] / cov[0, 0]\n",
    "        control_var = mc_delta - a_hat * (final_price - S0 * np.exp((r - q)* T))\n",
    "\n",
    "        delta = np.mean(control_var)\n",
    "        delta_std = np.std(control_var, ddof = 1) / np.sqrt(n)\n",
    "\n",
    "    return delta, delta_std\n",
    "\n",
    "def pathwise_delta(S0, K, T, r, q, sigma, n, control = False):\n",
    "    z = np.random.normal(size=n)\n",
    "    final_price = S0 * np.exp((r - q - 0.5 * sigma**2) * T + sigma * np.sqrt(T) * z)\n",
    "    pw_delta = np.exp(-r * T) * (final_price > K) * final_price / S0\n",
    "\n",
    "    if control == False:\n",
    "        delta = np.mean(pw_delta)\n",
    "        delta_std = np.std(pw_delta, ddof = 1) / np.sqrt(n)\n",
    "    else:\n",
    "        cov = np.cov(final_price, pw_delta, ddof = 1)\n",
    "        a_hat = cov[0, 1] / cov[0, 0]\n",
    "        control_var = pw_delta - a_hat * (final_price - S0 * np.exp((r - q)* T))\n",
    "\n",
    "        delta = np.mean(control_var)\n",
    "        delta_std = np.std(control_var, ddof = 1) / np.sqrt(n)\n",
    "    return  delta, delta_std\n",
    "\n",
    "def likelihood_delta(S0, K, T, r, q, sigma, n, control = False):\n",
    "    z = np.random.normal(size=n)\n",
    "    final_price = S0 * np.exp((r - q - 0.5 * sigma**2) * T + sigma * np.sqrt(T) * z)\n",
    "    ll_delta = np.exp(-r * T) * payoff(final_price, K) * (1 / (S0 * sigma**2 * T)) * (np.log(final_price / S0) - (r - q - 0.5 * sigma**2) * T)\n",
    "\n",
    "    if control == False:\n",
    "        delta = np.mean(ll_delta)\n",
    "        delta_std = np.std(ll_delta, ddof = 1) / np.sqrt(n)\n",
    "    else:\n",
    "        cov = np.cov(final_price, ll_delta, ddof = 1)\n",
    "        a_hat = cov[0, 1] / cov[0, 0]\n",
    "        control_var = ll_delta - a_hat * (final_price - S0 * np.exp((r - q)* T))\n",
    "\n",
    "        delta = np.mean(control_var)\n",
    "        delta_std = np.std(control_var, ddof = 1) / np.sqrt(n)\n",
    "    return  delta, delta_std"
   ]
  },
  {
   "cell_type": "code",
   "execution_count": 319,
   "metadata": {},
   "outputs": [],
   "source": [
    "def resimulation_vega(S0, h, K, T, r, q, sigma, n, control = False):\n",
    "    # np.random.seed(42)\n",
    "    z = np.random.normal(size=n)\n",
    "\n",
    "    ST_up = S0 * np.exp((r - q - 0.5 * (sigma + h)**2) * T + (sigma + h) * np.sqrt(T) * z)\n",
    "    ST_down = S0 * np.exp((r - q - 0.5 * (sigma - h)**2) * T + (sigma - h) * np.sqrt(T) * z)\n",
    "\n",
    "    mc_vega = np.exp(-r * T) * (payoff(ST_up, K) - payoff(ST_down, K)) / (2 * h)\n",
    "\n",
    "    if control == False:\n",
    "        vega = np.mean(mc_vega)\n",
    "        vega_std = np.std(mc_vega, ddof = 1) / np.sqrt(n)\n",
    "    else:\n",
    "        final_price = S0 * np.exp((r - q - 0.5 * sigma**2) * T + sigma * np.sqrt(T) * z)\n",
    "        \n",
    "        cov = np.cov(final_price, mc_vega, ddof = 1)\n",
    "        a_hat = cov[0, 1] / cov[0, 0]\n",
    "        control_var = mc_vega - a_hat * (final_price - S0 * np.exp((r - q)* T))\n",
    "\n",
    "        vega = np.mean(control_var)\n",
    "        vega_std = np.std(control_var, ddof = 1) / np.sqrt(n)\n",
    "\n",
    "    return vega, vega_std\n",
    "\n",
    "def pathwise_vega(S0, K, T, r, q, sigma, n, control = False):\n",
    "    z = np.random.normal(size=n)\n",
    "    final_price = S0 * np.exp((r - q - 0.5 * sigma**2) * T + sigma * np.sqrt(T) * z)\n",
    "    pw_vega = np.exp(-r * T) * (final_price > K) * final_price / sigma * (np.log(final_price / S0) - (r - q + 0.5 * sigma**2) * T)\n",
    "\n",
    "    if control == False:\n",
    "        vega = np.mean(pw_vega)\n",
    "        vega_std = np.std(pw_vega, ddof = 1) / np.sqrt(n)\n",
    "    else:\n",
    "        cov = np.cov(final_price, pw_vega, ddof = 1)\n",
    "        a_hat = cov[0, 1] / cov[0, 0]\n",
    "        control_var = pw_vega - a_hat * (final_price - S0 * np.exp((r - q)* T))\n",
    "\n",
    "        vega = np.mean(control_var)\n",
    "        vega_std = np.std(control_var, ddof = 1) / np.sqrt(n)\n",
    "    return  vega, vega_std\n",
    "\n",
    "def likelihood_vega(S0, K, T, r, q, sigma, n, control = False):\n",
    "    z = np.random.normal(size=n)\n",
    "    final_price = S0 * np.exp((r - q - 0.5 * sigma**2) * T + sigma * np.sqrt(T) * z)\n",
    "\n",
    "    d = (np.log(final_price / S0) - (r - q - 0.5 * sigma**2) * T) / (sigma * np.sqrt(T))\n",
    "    ll_vega = np.exp(-r * T) * payoff(final_price, K) * (- d * ((np.log(S0 / final_price) + (r - q + 0.5 * sigma**2) * T) / (sigma**2 * np.sqrt(T))) - 1 / sigma) \n",
    "\n",
    "    if control == False:\n",
    "        vega = np.mean(ll_vega)\n",
    "        vega_std = np.std(ll_vega, ddof = 1) / np.sqrt(n)\n",
    "    else:\n",
    "        cov = np.cov(final_price, ll_vega, ddof = 1)\n",
    "        a_hat = cov[0, 1] / cov[0, 0]\n",
    "        control_var = ll_vega - a_hat * (final_price - S0 * np.exp((r - q)* T))\n",
    "\n",
    "        vega = np.mean(control_var)\n",
    "        vega_std = np.std(control_var, ddof = 1) / np.sqrt(n)\n",
    "    return  vega, vega_std\n"
   ]
  },
  {
   "cell_type": "code",
   "execution_count": 320,
   "metadata": {},
   "outputs": [
    {
     "name": "stdout",
     "output_type": "stream",
     "text": [
      "Resimulation estimate | Delta Est = 0.5672, Delta Std Err = 0.0054, Vega Est = 17.1981, Vega Ste Err = 0.2950\n",
      "Resimulation estimate with control | Delta Est = 0.5682, Delta Std Err = 0.0030, Vega Est = 17.5048, Vega Ste Err = 0.1569\n",
      "Pathwise estimate | Delta Est = 0.5767, Delta Std Err = 0.0054, Vega Est = 17.6376, Vega Ste Err = 0.2991\n",
      "Pathwise estimate with control | Delta Est = 0.5679, Delta Std Err = 0.0029, Vega Est = 17.6220, Vega Ste Err = 0.1542\n",
      "Likelihood estimate | Delta Est = 0.5700, Delta Std Err = 0.0130, Vega Est = 15.6958, Vega Ste Err = 0.9603\n",
      "Likelihood estimate with contral | Delta Est = 0.5822, Delta Std Err = 0.0089, Vega Est = 18.0171, Vega Ste Err = 1.1144\n"
     ]
    }
   ],
   "source": [
    "estDelta, deltaStd =  resimulation_delta(S0, h, K, T, r, q, sigma, n, control = False)\n",
    "estVega, vegaStd = resimulation_vega(S0, h, K, T, r, q, sigma, n, control = False)\n",
    "print(f\"Resimulation estimate | Delta Est = {estDelta:.4f}, Delta Std Err = {deltaStd:.4f}, Vega Est = {estVega:.4f}, Vega Ste Err = {vegaStd:.4f}\")\n",
    "\n",
    "estDelta, deltaStd =  resimulation_delta(S0, h, K, T, r, q, sigma, n, control = True)\n",
    "estVega, vegaStd = resimulation_vega(S0, h, K, T, r, q, sigma, n, control = True)\n",
    "print(f\"Resimulation estimate with control | Delta Est = {estDelta:.4f}, Delta Std Err = {deltaStd:.4f}, Vega Est = {estVega:.4f}, Vega Ste Err = {vegaStd:.4f}\")\n",
    "\n",
    "estDelta, deltaStd = pathwise_delta(S0, K, T, r, q, sigma, n, False)\n",
    "estVega, vegaStd = pathwise_vega(S0, K, T, r, q, sigma, n, False)\n",
    "print(f\"Pathwise estimate | Delta Est = {estDelta:.4f}, Delta Std Err = {deltaStd:.4f}, Vega Est = {estVega:.4f}, Vega Ste Err = {vegaStd:.4f}\")\n",
    "\n",
    "estDelta, deltaStd = pathwise_delta(S0, K, T, r, q, sigma, n, True)\n",
    "estVega, vegaStd = pathwise_vega(S0, K, T, r, q, sigma, n, True)\n",
    "print(f\"Pathwise estimate with control | Delta Est = {estDelta:.4f}, Delta Std Err = {deltaStd:.4f}, Vega Est = {estVega:.4f}, Vega Ste Err = {vegaStd:.4f}\")\n",
    "\n",
    "estDelta, deltaStd = likelihood_delta(S0, K, T, r, q, sigma, n, False)\n",
    "estVega, vegaStd = likelihood_vega(S0, K, T, r, q, sigma, n, False)\n",
    "print(f\"Likelihood estimate | Delta Est = {estDelta:.4f}, Delta Std Err = {deltaStd:.4f}, Vega Est = {estVega:.4f}, Vega Ste Err = {vegaStd:.4f}\")\n",
    "\n",
    "estDelta, deltaStd = likelihood_delta(S0, K, T, r, q, sigma, n, True)\n",
    "estVega, vegaStd = likelihood_vega(S0, K, T, r, q, sigma, n, True)\n",
    "print(f\"Likelihood estimate with contral | Delta Est = {estDelta:.4f}, Delta Std Err = {deltaStd:.4f}, Vega Est = {estVega:.4f}, Vega Ste Err = {vegaStd:.4f}\")"
   ]
  },
  {
   "cell_type": "markdown",
   "metadata": {},
   "source": [
    "2) **Applying Broadie and Glasserman to Digital Options.**"
   ]
  },
  {
   "cell_type": "markdown",
   "metadata": {},
   "source": [
    "(a)"
   ]
  },
  {
   "cell_type": "code",
   "execution_count": 321,
   "metadata": {},
   "outputs": [],
   "source": [
    "S0 = 100\n",
    "K = 105\n",
    "r = 0.05\n",
    "sigma = 0.2\n",
    "T = 1\n",
    "n = 10000\n",
    "h = 0.0001\n",
    "def digital_call_price(S0, K, T, r, sigma):\n",
    "    d2 = (np.log(S0 / K) + (r - 0.5 * sigma**2) * T) / (sigma * np.sqrt(T))\n",
    "    return np.exp(-r * T) * stats.norm.cdf(d2)\n",
    "def digital_call_delta(S0, K, T, r, sigma):\n",
    "    d2 = (np.log(S0 / K) + (r - 0.5 * sigma**2) * T) / (sigma * np.sqrt(T))\n",
    "    return np.exp(-r * T) * stats.norm.pdf(d2) / (S0 * sigma * np.sqrt(T))\n"
   ]
  },
  {
   "cell_type": "code",
   "execution_count": 322,
   "metadata": {},
   "outputs": [
    {
     "name": "stdout",
     "output_type": "stream",
     "text": [
      "Digital call price = 0.4400, Delta = 0.0189\n"
     ]
    }
   ],
   "source": [
    "price = digital_call_price(S0, K, T, r, sigma)\n",
    "delta = digital_call_delta(S0, K, T, r, sigma)\n",
    "\n",
    "print(f\"Digital call price = {price:.4f}, Delta = {delta:.4f}\")"
   ]
  },
  {
   "cell_type": "markdown",
   "metadata": {},
   "source": [
    "(b)"
   ]
  },
  {
   "cell_type": "code",
   "execution_count": 323,
   "metadata": {},
   "outputs": [],
   "source": [
    "# Payoff function\n",
    "def digital_payoff(ST, K):\n",
    "    return (ST > K) * 1\n",
    "\n",
    "# Delta estimates\n",
    "def resimulation_digital_delta(S0, h, K, T, r, q, sigma, n, control = False):\n",
    "    # np.random.seed(42)\n",
    "    z = np.random.normal(size=n)\n",
    "\n",
    "    ST_up = (S0 + h) * np.exp((r - q - 0.5 * sigma**2) * T + sigma * np.sqrt(T) * z)\n",
    "    ST_down = (S0 - h) * np.exp((r - q - 0.5 * sigma**2) * T + sigma * np.sqrt(T) * z)\n",
    "\n",
    "    mc_delta = np.exp(-r * T) * (digital_payoff(ST_up, K) - digital_payoff(ST_down, K)) / (2 * h)\n",
    "\n",
    "    if control == False:\n",
    "        delta = np.mean(mc_delta)\n",
    "        delta_std = np.std(mc_delta, ddof = 1) / np.sqrt(n)\n",
    "    else:\n",
    "        final_price = S0 * np.exp((r - q - 0.5 * sigma**2) * T + sigma * np.sqrt(T) * z)\n",
    "        \n",
    "        cov = np.cov(final_price, mc_delta, ddof = 1)\n",
    "        a_hat = cov[0, 1] / cov[0, 0]\n",
    "        control_var = mc_delta - a_hat * (final_price - S0 * np.exp((r - q)* T))\n",
    "\n",
    "        delta = np.mean(control_var)\n",
    "        delta_std = np.std(control_var, ddof = 1) / np.sqrt(n)\n",
    "\n",
    "    return delta, delta_std"
   ]
  },
  {
   "cell_type": "code",
   "execution_count": 324,
   "metadata": {},
   "outputs": [
    {
     "name": "stdout",
     "output_type": "stream",
     "text": [
      "Resimulation: Digital call delta = 0.0000, Delta stdErr = 0.0000\n"
     ]
    }
   ],
   "source": [
    "price, delta = resimulation_digital_delta(S0, h, K, T, r, 0, sigma, n, control = True)\n",
    "print(f\"Resimulation: Digital call delta = {price:.4f}, Delta stdErr = {delta:.4f}\")"
   ]
  },
  {
   "cell_type": "markdown",
   "metadata": {},
   "source": [
    "(c)"
   ]
  },
  {
   "cell_type": "code",
   "execution_count": 325,
   "metadata": {},
   "outputs": [],
   "source": [
    "def likelihood_digital_delta(S0, K, T, r, q, sigma, n, control = False):\n",
    "    z = np.random.normal(size=n)\n",
    "    final_price = S0 * np.exp((r - q - 0.5 * sigma**2) * T + sigma * np.sqrt(T) * z)\n",
    "    ll_delta = np.exp(-r * T) * digital_payoff(final_price, K) * (1 / (S0 * sigma**2 * T)) * (np.log(final_price / S0) - (r - q - 0.5 * sigma**2) * T)\n",
    "\n",
    "    if control == False:\n",
    "        delta = np.mean(ll_delta)\n",
    "        delta_std = np.std(ll_delta, ddof = 1) / np.sqrt(n)\n",
    "    else:\n",
    "        cov = np.cov(final_price, ll_delta, ddof = 1)\n",
    "        a_hat = cov[0, 1] / cov[0, 0]\n",
    "        control_var = ll_delta - a_hat * (final_price - S0 * np.exp((r - q)* T))\n",
    "\n",
    "        delta = np.mean(control_var)\n",
    "        delta_std = np.std(control_var, ddof = 1) / np.sqrt(n)\n",
    "    return  delta, delta_std"
   ]
  },
  {
   "cell_type": "code",
   "execution_count": 326,
   "metadata": {},
   "outputs": [
    {
     "name": "stdout",
     "output_type": "stream",
     "text": [
      "Likelihood: Digital call delta = 0.0189, Delta stdErr = 0.0001\n"
     ]
    }
   ],
   "source": [
    "price, delta = likelihood_digital_delta(S0, K, T, r, 0, sigma, n, control = True)\n",
    "print(f\"Likelihood: Digital call delta = {price:.4f}, Delta stdErr = {delta:.4f}\")"
   ]
  },
  {
   "cell_type": "markdown",
   "metadata": {},
   "source": [
    "3) **Practice on stratification.**"
   ]
  },
  {
   "cell_type": "markdown",
   "metadata": {},
   "source": [
    "(a): Standard Monte Carlo Simulation"
   ]
  },
  {
   "cell_type": "code",
   "execution_count": 327,
   "metadata": {},
   "outputs": [
    {
     "name": "stdout",
     "output_type": "stream",
     "text": [
      "call price = 7.7739, stdErr = 0.3155\n"
     ]
    }
   ],
   "source": [
    "# Parameters\n",
    "S0 = 100\n",
    "sigma = 0.2\n",
    "T = 1\n",
    "r = 0.05\n",
    "K = 100\n",
    "n = 1000\n",
    "\n",
    "# Part (a): Standard Monte Carlo Simulation\n",
    "uniform_randoms = np.random.rand(n, 2)\n",
    "normal_randoms = stats.norm.ppf(uniform_randoms)\n",
    "\n",
    "S1_T = S0 * np.exp((r - 0.5 * sigma**2) * T + sigma * np.sqrt(T) * normal_randoms[:, 0])\n",
    "S2_T = S0 * np.exp((r - 0.5 * sigma**2) * T + sigma * np.sqrt(T) * normal_randoms[:, 1])\n",
    "average_S = (S1_T + S2_T) / 2\n",
    "\n",
    "payoffs = np.maximum(average_S - K, 0)\n",
    "discounted_payoffs = np.exp(-r * T) * payoffs\n",
    "\n",
    "estimate_mc = np.mean(discounted_payoffs)\n",
    "standard_error_mc = np.std(discounted_payoffs) / np.sqrt(n)\n",
    "\n",
    "print(f\"call price = {estimate_mc:.4f}, stdErr = {standard_error_mc:.4f}\")"
   ]
  },
  {
   "cell_type": "markdown",
   "metadata": {},
   "source": [
    "(b): Bivariate Stratification"
   ]
  },
  {
   "cell_type": "code",
   "execution_count": 328,
   "metadata": {},
   "outputs": [
    {
     "name": "stdout",
     "output_type": "stream",
     "text": [
      "call price = 8.2579 , stdErr = 0.0914\n"
     ]
    }
   ],
   "source": [
    "B = 10\n",
    "N = int(n/float(B))   #B = number of bins\n",
    "f1 = (r - .5 * sigma**2) * T\n",
    "f2 = sigma * np.sqrt(T)\n",
    "pv = np.exp(-r * T)\n",
    "# Create a grid of stratified samples\n",
    "A = np.ones((N, B, B))\n",
    "A1 = np.cumsum(A, axis=1) - 1\n",
    "A2 = np.cumsum(A, axis=2) - 1\n",
    "\n",
    "U1 = np.random.random((N, B, B))\n",
    "U2 = np.random.random((N, B, B))\n",
    "\n",
    "A = (A1 + U1) / float(B)\n",
    "B = (A2 + U2) / float(B)\n",
    "\n",
    "z1 = stats.norm.ppf(A)\n",
    "z2 = stats.norm.ppf(B)\n",
    "\n",
    "S1_T = S0*np.exp(f1+f2*z1)\n",
    "S2_T = S0*np.exp(f1+f2*z2)\n",
    "\n",
    "average_S = (S1_T + S2_T) / 2\n",
    "\n",
    "payoffs = np.maximum(average_S - K, 0)\n",
    "discounted_payoffs = pv * payoffs\n",
    "\n",
    "price_vec = np.mean(discounted_payoffs, axis = 0)\n",
    "var_vec = np.var(discounted_payoffs, axis = 0)\n",
    "\n",
    "estimate_strata = np.mean(price_vec)\n",
    "standard_error_strata = np.sqrt(np.mean(var_vec)/n)\n",
    "\n",
    "print(f\"call price = {estimate_strata:.4f} , stdErr = {standard_error_strata:.4f}\")"
   ]
  },
  {
   "cell_type": "markdown",
   "metadata": {},
   "source": [
    "4) **Practice on the Brownian bridge method.**"
   ]
  },
  {
   "cell_type": "code",
   "execution_count": 329,
   "metadata": {},
   "outputs": [],
   "source": [
    "S0 = 50\n",
    "K = 50\n",
    "T = 0.25\n",
    "r = 0.1\n",
    "sigma = 0.25\n",
    "time_step = 30\n",
    "n = 1000\n",
    "dt = T / time_step\n",
    "\n",
    "z = np.random.normal(size = (n, time_step + 1))\n",
    "\n",
    "loc = (r - 0.5 * sigma**2) * dt\n",
    "scale = sigma * np.sqrt(dt)\n",
    "\n",
    "S = np.zeros((n, time_step + 1))\n",
    "S[:, 0] = S0\n",
    "for t in range(1, time_step + 1):\n",
    "    S[:, t] = S[:, t - 1] + r * S[:, t - 1] * dt + sigma * S[:, t - 1] * np.sqrt(dt) * z[:, t]\n",
    "\n"
   ]
  },
  {
   "cell_type": "markdown",
   "metadata": {},
   "source": [
    "(a)"
   ]
  },
  {
   "cell_type": "code",
   "execution_count": 330,
   "metadata": {},
   "outputs": [
    {
     "name": "stdout",
     "output_type": "stream",
     "text": [
      "The max call price without BDZ = 4.9967, stdErr = 0.1363\n"
     ]
    }
   ],
   "source": [
    "max_call_payoffs = np.maximum(np.max(S[:, 1:], axis = 1) - K, 0)\n",
    "Cj = np.exp(-r * T) * max_call_payoffs\n",
    "\n",
    "price = np.mean(Cj)\n",
    "stdErr = np.std(Cj, ddof=1) / np.sqrt(n)\n",
    "print(f\"The max call price without BDZ = {price:.4f}, stdErr = {stdErr:.4f}\")"
   ]
  },
  {
   "cell_type": "code",
   "execution_count": 331,
   "metadata": {},
   "outputs": [
    {
     "name": "stdout",
     "output_type": "stream",
     "text": [
      "The max call price with BDZ = 5.6595, stdErr = 0.1383\n"
     ]
    }
   ],
   "source": [
    "b = (S[:, 1:] - S[:, :-1]) / (sigma * S[:, :-1])\n",
    "u = np.random.uniform(size = (n, time_step))\n",
    "Mj = (b + np.sqrt(b**2 - 2 * dt * np.log(1 - u))) / 2\n",
    "St = S[:,:-1] + sigma * S[:,:-1] * Mj\n",
    "max_call_payoffs = np.maximum(np.max(St, axis = 1) - K, 0)\n",
    "Cj = np.exp(-r * T) * max_call_payoffs\n",
    "\n",
    "price = np.mean(Cj)\n",
    "stdErr = np.std(Cj, ddof=1) / np.sqrt(n)\n",
    "print(f\"The max call price with BDZ = {price:.4f}, stdErr = {stdErr:.4f}\")"
   ]
  },
  {
   "cell_type": "markdown",
   "metadata": {},
   "source": [
    "(b)"
   ]
  },
  {
   "cell_type": "code",
   "execution_count": 332,
   "metadata": {},
   "outputs": [
    {
     "name": "stdout",
     "output_type": "stream",
     "text": [
      "The max call price with ST as strike without BDZ = 3.8961, stdErr = 0.1009\n"
     ]
    }
   ],
   "source": [
    "max_call_payoffs = np.maximum(np.max(S[:, 1:], axis = 1) - S[:, -1], 0)\n",
    "Cj = np.exp(-r * T) * max_call_payoffs\n",
    "\n",
    "price = np.mean(Cj)\n",
    "stdErr = np.std(Cj, ddof=1) / np.sqrt(n)\n",
    "print(f\"The max call price with ST as strike without BDZ = {price:.4f}, stdErr = {stdErr:.4f}\")"
   ]
  },
  {
   "cell_type": "code",
   "execution_count": 333,
   "metadata": {},
   "outputs": [
    {
     "name": "stdout",
     "output_type": "stream",
     "text": [
      "The max call price with ST as strike with BDZ = 4.6379, stdErr = 0.1024\n"
     ]
    }
   ],
   "source": [
    "b = (S[:, 1:] - S[:, :-1]) / (sigma * S[:, :-1])\n",
    "u = np.random.uniform(size = (n, time_step))\n",
    "Mj = (b + np.sqrt(b**2 - 2 * dt * np.log(1 - u))) / 2\n",
    "St = S[:,:-1] + sigma * S[:,:-1] * Mj\n",
    "max_call_payoffs = np.maximum(np.max(St, axis = 1) - S[:, -1], 0)\n",
    "Cj = np.exp(-r * T) * max_call_payoffs\n",
    "\n",
    "price = np.mean(Cj)\n",
    "stdErr = np.std(Cj, ddof=1) / np.sqrt(n)\n",
    "print(f\"The max call price with ST as strike with BDZ = {price:.4f}, stdErr = {stdErr:.4f}\")"
   ]
  },
  {
   "cell_type": "markdown",
   "metadata": {},
   "source": [
    "5) **Two-Asset Down-and-Out Call Option Pricing (Discrete and Continuous)**"
   ]
  },
  {
   "cell_type": "markdown",
   "metadata": {},
   "source": [
    "(a)"
   ]
  },
  {
   "cell_type": "code",
   "execution_count": 334,
   "metadata": {},
   "outputs": [],
   "source": [
    "S1_0 = S2_0 = K = 100\n",
    "r = 0.1\n",
    "sigma = 0.3\n",
    "rho = 0.5\n",
    "T = 0.2\n",
    "H = 95\n",
    "time_step = 50\n",
    "dt = T / time_step\n",
    "n = 10000\n",
    "\n",
    "def gbm_path(S_0, ttm, rf, sigma, N, z):\n",
    "    delta_t = ttm / N\n",
    "    zs = np.cumsum((rf - 0.5 * sigma**2) * delta_t + sigma * np.sqrt(delta_t) * z)\n",
    "    S = S_0 * np.exp(zs)\n",
    "    return np.append(S_0 ,S)\n",
    "\n",
    "def call_payoff(S1, S2, K, H):\n",
    "    return np.maximum(S1[-1] - K, 0) * ~np.any(S2 < H)\n",
    "\n",
    "corr = np.array([[1, rho], [rho, 1]])\n",
    "chol = np.linalg.cholesky(corr)"
   ]
  },
  {
   "cell_type": "code",
   "execution_count": 335,
   "metadata": {},
   "outputs": [
    {
     "name": "stdout",
     "output_type": "stream",
     "text": [
      "call price = 3.6279, stdErr = 0.0817\n"
     ]
    }
   ],
   "source": [
    "mc_payoff = np.zeros(n)\n",
    "for j in range(n):\n",
    "    z = np.matmul(chol, np.random.normal(size=(2, time_step)))\n",
    "    S1 = gbm_path(S1_0, T, r, sigma, time_step, z[0, :])\n",
    "    S2 = gbm_path(S2_0, T, r, sigma, time_step, z[1, :])\n",
    "    mc_payoff[j] = call_payoff(S1, S2, K, H)\n",
    "\n",
    "Cj = np.exp(-r * T) * mc_payoff\n",
    "price = np.mean(Cj)\n",
    "stdErr = np.std(Cj, ddof = 1) / np.sqrt(n)\n",
    "\n",
    "print(f\"call price = {price:.4f}, stdErr = {stdErr:.4f}\")"
   ]
  },
  {
   "cell_type": "code",
   "execution_count": 336,
   "metadata": {},
   "outputs": [
    {
     "name": "stdout",
     "output_type": "stream",
     "text": [
      "call price with BDZ= 3.2634, stdErr = 0.0768\n"
     ]
    }
   ],
   "source": [
    "mc_payoff = np.zeros(n)\n",
    "for j in range(n):\n",
    "    z = np.matmul(chol, np.random.normal(size=(2, time_step)))\n",
    "    S1 = gbm_path(S1_0, T, r, sigma, time_step, z[0, :])\n",
    "    S2 = gbm_path(S2_0, T, r, sigma, time_step, z[1, :])\n",
    "\n",
    "    b = (S2[1:] - S2[:-1]) / (sigma * S2[:-1])\n",
    "    u = np.random.uniform(size = time_step)\n",
    "    Mj = (b - np.sqrt(b**2 - 2 * dt * np.log(1 - u))) / 2\n",
    "    S2_t = S2[:-1] + sigma * S2[:-1] * Mj\n",
    "    mc_payoff[j] = call_payoff(S1, S2_t, K, H)\n",
    "\n",
    "Cj = np.exp(-r * T) * mc_payoff\n",
    "price = np.mean(Cj)\n",
    "stdErr = np.std(Cj, ddof = 1) / np.sqrt(n)\n",
    "\n",
    "print(f\"call price with BDZ= {price:.4f}, stdErr = {stdErr:.4f}\")"
   ]
  }
 ],
 "metadata": {
  "kernelspec": {
   "display_name": "SimulationMethods",
   "language": "python",
   "name": "python3"
  },
  "language_info": {
   "codemirror_mode": {
    "name": "ipython",
    "version": 3
   },
   "file_extension": ".py",
   "mimetype": "text/x-python",
   "name": "python",
   "nbconvert_exporter": "python",
   "pygments_lexer": "ipython3",
   "version": "3.11.9"
  }
 },
 "nbformat": 4,
 "nbformat_minor": 2
}
