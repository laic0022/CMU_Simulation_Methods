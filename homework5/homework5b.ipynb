{
 "cells": [
  {
   "cell_type": "markdown",
   "metadata": {},
   "source": [
    "Chia-Wei Lai | clai2\n",
    "<h3><center>Simulation Methods</center></h3>\n",
    "<h3><center>46-773</center></h3>\n",
    "<h3><center>Homework #5b</center></h3>"
   ]
  },
  {
   "cell_type": "code",
   "execution_count": 461,
   "metadata": {},
   "outputs": [],
   "source": [
    "import numpy as np\n",
    "import scipy.stats as stats"
   ]
  },
  {
   "cell_type": "code",
   "execution_count": 462,
   "metadata": {},
   "outputs": [
    {
     "name": "stdout",
     "output_type": "stream",
     "text": [
      "S0 = 38, price = 3.1769, stdErr = 0.0046, closed-form European = 2.8519, Early exercise value = 0.3249\n",
      "S0 = 40, price = 2.2546, stdErr = 0.0042, closed-form European = 2.0664, Early exercise value = 0.1882\n"
     ]
    }
   ],
   "source": [
    "# np.random.seed(100000)\n",
    "K  = 40\n",
    "r = 0.06\n",
    "S0_values = [38, 40]\n",
    "sigma = 0.2\n",
    "T = 1\n",
    "n_av = 50000\n",
    "time_steps = 50 * T\n",
    "dt = T / time_steps\n",
    "\n",
    "def gbm_path(S0, T, r, sigma, time_steps, n_av):\n",
    "    dt = T / time_steps\n",
    "    z = np.random.normal(size = (n_av, time_steps))\n",
    "\n",
    "    S_path1 = np.zeros((n_av, time_steps + 1))\n",
    "    S_path1[:, 0] = S0\n",
    "    S_path1[:, 1:] = S0 * np.exp(np.cumsum((r - 0.5 * sigma**2) * dt + sigma * np.sqrt(dt) * z, axis = 1))\n",
    "\n",
    "    S_path2 = np.zeros((n_av, time_steps + 1))\n",
    "    S_path2[:, 0] = S0\n",
    "    S_path2[:, 1:] = S0 * np.exp(np.cumsum((r - 0.5 * sigma**2) * dt - sigma * np.sqrt(dt) * z, axis = 1))\n",
    "\n",
    "    return np.append(S_path1, S_path2, axis = 0)\n",
    "\n",
    "def bs_put(S0, K, T, r, sigma):\n",
    "    d1 = (np.log(S0 / K) + (r + sigma**2 / 2) * T) / (sigma * np.sqrt(T))\n",
    "    d2 = d1 - sigma * np.sqrt(T)\n",
    "    return K * np.exp(-r * T) * stats.norm.cdf(-d2) - S0 * stats.norm.cdf(-d1)\n",
    "\n",
    "\n",
    "def put_payoff(S, K):\n",
    "    return np.maximum(K - S, 0)\n",
    "\n",
    "# Longstaff and Schwartz\n",
    "\n",
    "def L0(x):\n",
    "    return np.exp(-x / 2)\n",
    "def L1(x):\n",
    "    return np.exp(-x / 2) * (1 - x)\n",
    "def L2(x):\n",
    "    return np.exp(-x / 2) * (1 - 2 * x + x**2 / 2)\n",
    "\n",
    "for S0 in S0_values:\n",
    "    euro_put_price = bs_put(S0, K, T, r, sigma)\n",
    "    S = gbm_path(S0, T, r, sigma, time_steps, n_av)\n",
    "    n_path = S.shape[0]\n",
    "\n",
    "    discount_payoff = np.exp(-r * dt) * put_payoff(S[:, time_steps], K)\n",
    "    for j in range(time_steps - 1, 0, -1):\n",
    "        \n",
    "        inTheMoney_idx = np.where(put_payoff(S[:, j], K) > 0)\n",
    "        X1 = L0(S[inTheMoney_idx, j])\n",
    "        X2 = L1(S[inTheMoney_idx, j])\n",
    "        X3 = L2(S[inTheMoney_idx, j])\n",
    "\n",
    "        X = np.concatenate((np.ones((1, len(inTheMoney_idx[0]))), X1, X2, X3), axis = 0).T\n",
    "        Y = discount_payoff[inTheMoney_idx]\n",
    "\n",
    "        betas = np.linalg.lstsq(X, Y, rcond=None)[0]\n",
    "        Continuation_value = np.zeros(n_path)\n",
    "        y_hat = betas[0] + (betas[1:] * X[:, 1:]).sum(axis = 1)\n",
    "        Continuation_value[inTheMoney_idx] = y_hat\n",
    "        exercise = put_payoff(S[:, j], K).reshape(-1)\n",
    "\n",
    "        replace_idx = np.where(exercise > Continuation_value)\n",
    "        discount_payoff[replace_idx] = exercise[replace_idx]\n",
    "        discount_payoff = np.exp(-r * dt) * discount_payoff\n",
    "\n",
    "    price = discount_payoff.mean()\n",
    "    stdErr = np.std((discount_payoff[:n_av] + discount_payoff[n_av:]) / 2, ddof = 1) / np.sqrt(n_av)\n",
    "\n",
    "    print(f\"S0 = {S0}, price = {price:.4f}, stdErr = {stdErr:.4f}, closed-form European = {euro_put_price:.4f}, Early exercise value = {price - euro_put_price:.4f}\")\n",
    "\n",
    "    "
   ]
  },
  {
   "cell_type": "code",
   "execution_count": null,
   "metadata": {},
   "outputs": [],
   "source": []
  }
 ],
 "metadata": {
  "kernelspec": {
   "display_name": "SimulationMethods",
   "language": "python",
   "name": "python3"
  },
  "language_info": {
   "codemirror_mode": {
    "name": "ipython",
    "version": 3
   },
   "file_extension": ".py",
   "mimetype": "text/x-python",
   "name": "python",
   "nbconvert_exporter": "python",
   "pygments_lexer": "ipython3",
   "version": "3.11.9"
  }
 },
 "nbformat": 4,
 "nbformat_minor": 2
}
