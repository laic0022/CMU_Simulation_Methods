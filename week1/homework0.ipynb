{
 "cells": [
  {
   "cell_type": "markdown",
   "metadata": {},
   "source": [
    "Chia-Wei Lai | clai2"
   ]
  },
  {
   "cell_type": "markdown",
   "metadata": {},
   "source": [
    "<h3><center>Simulation Methods</center></h3>\n",
    "<h3><center>46-773</center></h3>\n",
    "<h3><center>Homework #0</center></h3>\n"
   ]
  },
  {
   "cell_type": "markdown",
   "metadata": {},
   "source": [
    "**Due: Friday, May 3, 2024**\n",
    "\n",
    "This assignment is just to familiarize you with submitting your work to Gradescope. Start your question on a new page and put your name and Andrew id at the top of the page. Answer both questions - you can type your answers or handwrite (in which case you should scan your handwritten answers). When finished, upload your pdf file to Gradescope and indicate where the answer to each question is located."
   ]
  },
  {
   "cell_type": "markdown",
   "metadata": {},
   "source": [
    "1) If X is a random variable with Uniform distribution $U[0,1]$, what is $E(X)$?"
   ]
  },
  {
   "cell_type": "markdown",
   "metadata": {},
   "source": [
    "$ E(X) = \\int_{0}^{1} x dx = \\frac{1}{2}$"
   ]
  },
  {
   "cell_type": "markdown",
   "metadata": {},
   "source": [
    "2) If $X$ is a random variable with Uniform distribution $U[0,1]$, what is $E(X +1)$?"
   ]
  },
  {
   "cell_type": "markdown",
   "metadata": {},
   "source": [
    "$E(X+1) = E(X) + 1 = \\frac{3}{2}$"
   ]
  },
  {
   "cell_type": "markdown",
   "metadata": {},
   "source": []
  }
 ],
 "metadata": {
  "language_info": {
   "name": "python"
  }
 },
 "nbformat": 4,
 "nbformat_minor": 2
}
