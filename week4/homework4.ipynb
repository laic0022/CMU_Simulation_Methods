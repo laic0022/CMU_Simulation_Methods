{
 "cells": [
  {
   "cell_type": "markdown",
   "metadata": {},
   "source": [
    "Chia-Wei Lai | clai2\n",
    "<h3><center>Simulation Methods</center></h3>\n",
    "<h3><center>46-773</center></h3>\n",
    "<h3><center>Homework #4</center></h3>"
   ]
  },
  {
   "cell_type": "code",
   "execution_count": 1,
   "metadata": {},
   "outputs": [],
   "source": [
    "import numpy as np\n",
    "import scipy.stats as stats"
   ]
  },
  {
   "cell_type": "markdown",
   "metadata": {},
   "source": [
    "**Problem #1** Completion of Problem 4, Homework #3"
   ]
  },
  {
   "cell_type": "markdown",
   "metadata": {},
   "source": [
    "(a)"
   ]
  },
  {
   "cell_type": "code",
   "execution_count": 2,
   "metadata": {},
   "outputs": [
    {
     "name": "stdout",
     "output_type": "stream",
     "text": [
      "K = 120, call price = 3.2542, stdErr = 0.0275\n",
      "K = 140, call price = 0.7913, stdErr = 0.0135\n",
      "K = 160, call price = 0.1632, stdErr = 0.0060\n"
     ]
    }
   ],
   "source": [
    "# Parameters\n",
    "S0 = 100\n",
    "mu = 0.10\n",
    "sigma = 0.20\n",
    "r = 0.05\n",
    "T = 1\n",
    "n = 100000\n",
    "strike_prices = [120, 140, 160]\n",
    "\n",
    "# Generate standard normal random variables\n",
    "Z = np.random.normal(0, 1, n)\n",
    "\n",
    "# Simulate asset prices at maturity\n",
    "ST = S0 * np.exp((r - 0.5 * sigma**2) * T + sigma * np.sqrt(T) * Z)\n",
    "\n",
    "# Calculate call option prices for different strike prices\n",
    "call_prices = {}\n",
    "for K in strike_prices:\n",
    "    payoffs = np.maximum(ST - K, 0)\n",
    "    call_prices_pv = np.exp(-r * T) * payoffs\n",
    "    stderr = np.std(call_prices_pv) / np.sqrt(n)\n",
    "    \n",
    "    call_prices[K] = np.mean(call_prices_pv), stderr\n",
    "\n",
    "\n",
    "for K in strike_prices:\n",
    "    print(f\"K = {K}, call price = {call_prices[K][0]:.4f}, stdErr = {call_prices[K][1]:.4f}\")\n"
   ]
  },
  {
   "cell_type": "markdown",
   "metadata": {},
   "source": [
    "(b)"
   ]
  },
  {
   "cell_type": "code",
   "execution_count": 3,
   "metadata": {},
   "outputs": [
    {
     "name": "stdout",
     "output_type": "stream",
     "text": [
      "K = 120, call price = 3.3287, stdErr = 0.0470\n",
      "K = 140, call price = 0.8658, stdErr = 0.0581\n",
      "K = 160, call price = 0.2377, stdErr = 0.0624\n"
     ]
    }
   ],
   "source": [
    "# Calculate put option prices for different strike prices using Monte Carlo\n",
    "put_prices = {}\n",
    "for K in strike_prices:\n",
    "    payoffs = np.maximum(K - ST, 0)\n",
    "    put_price_pv = np.exp(-r * T) * payoffs\n",
    "    call_price_pv = put_price_pv + S0 - K * np.exp(-r * T)\n",
    "    stderr = np.std(put_price_pv) / np.sqrt(n)\n",
    "\n",
    "    put_prices[K] = np.mean(put_price_pv)\n",
    "    call_prices[K] = np.mean(call_price_pv), stderr\n",
    "\n",
    "for K in strike_prices:\n",
    "    print(f\"K = {K}, call price = {call_prices[K][0]:.4f}, stdErr = {call_prices[K][1]:.4f}\")\n"
   ]
  },
  {
   "cell_type": "markdown",
   "metadata": {},
   "source": [
    "(c)"
   ]
  },
  {
   "cell_type": "code",
   "execution_count": 4,
   "metadata": {},
   "outputs": [
    {
     "name": "stdout",
     "output_type": "stream",
     "text": [
      "K = 120, call price = 3.2783, stdErr = 0.0181\n",
      "K = 140, call price = 0.7995, stdErr = 0.0115\n",
      "K = 160, call price = 0.1654, stdErr = 0.0057\n"
     ]
    }
   ],
   "source": [
    "# Control variate technique\n",
    "expected_ST = S0 * np.exp(r * T)\n",
    "b_values = {}\n",
    "adjusted_call_prices = {}\n",
    "\n",
    "for K in strike_prices:\n",
    "    payoffs = np.maximum(K - ST, 0)\n",
    "    cov = np.cov(payoffs, ST)[0, 1]\n",
    "    var = np.var(ST)\n",
    "    b = cov / var\n",
    "    adjusted_payoffs = payoffs - b * (ST - expected_ST)\n",
    "    adjusted_put_price_pv = np.exp(-r * T) * adjusted_payoffs\n",
    "    stderr = np.std(adjusted_put_price_pv) / np.sqrt(n)\n",
    "\n",
    "    adjusted_call_prices[K] = np.mean(adjusted_put_price_pv) + S0 - K * np.exp(-r * T), stderr\n",
    "\n",
    "\n",
    "for K in strike_prices:\n",
    "    print(f\"K = {K}, call price = {adjusted_call_prices[K][0]:.4f}, stdErr = {adjusted_call_prices[K][1]:.4f}\")"
   ]
  },
  {
   "cell_type": "markdown",
   "metadata": {},
   "source": [
    "(d)"
   ]
  },
  {
   "cell_type": "code",
   "execution_count": 5,
   "metadata": {},
   "outputs": [
    {
     "name": "stdout",
     "output_type": "stream",
     "text": [
      "K = 120, call price = 3.2533, stdErr = 0.0093\n",
      "K = 140, call price = 0.7868, stdErr = 0.0023\n",
      "K = 160, call price = 0.1592, stdErr = 0.0005\n"
     ]
    }
   ],
   "source": [
    "call_prices = {}\n",
    "\n",
    "for K in strike_prices:\n",
    "    L = (np.log(K / S0) - (r - 0.5 * sigma**2) * T) / (sigma * np.sqrt(T))\n",
    "    u = np.random.uniform(size = n)\n",
    "    x = stats.norm.ppf(u * (1 - stats.norm.cdf(L)) + stats.norm.cdf(L))\n",
    "\n",
    "    ST = S0 * np.exp((r - 0.5 * sigma**2) * T + sigma * np.sqrt(T) * x)\n",
    "    ci = np.exp(-r * T) * (ST - K) * (1 - stats.norm.cdf(L))\n",
    "\n",
    "    call_prices[K] = ci.mean(), ci.std(ddof = 1) / np.sqrt(n)\n",
    "for K in strike_prices:\n",
    "    print(f\"K = {K}, call price = {call_prices[K][0]:.4f}, stdErr = {call_prices[K][1]:.4f}\")"
   ]
  },
  {
   "cell_type": "markdown",
   "metadata": {},
   "source": [
    "**Problem #2** Practice on conditional Monte Carlo and importance sampling: barrier options"
   ]
  },
  {
   "cell_type": "markdown",
   "metadata": {},
   "source": [
    "(a)"
   ]
  },
  {
   "cell_type": "code",
   "execution_count": 6,
   "metadata": {},
   "outputs": [
    {
     "name": "stdout",
     "output_type": "stream",
     "text": [
      "H = 94, K = 96, Option Price = 0.3012, stdErr = 0.0014\n",
      "H = 90, K = 96, Option Price = 0.0427, stdErr = 0.0006\n",
      "H = 85, K = 96, Option Price = 0.0006, stdErr = 0.0001\n",
      "H = 90, K = 106, Option Price = 0.0013, stdErr = 0.0001\n"
     ]
    }
   ],
   "source": [
    "# Parameters\n",
    "S0 = 95\n",
    "K_values = [96, 96, 96, 106]  # Example strike price\n",
    "H_values = [94, 90, 85, 90]  # Example barrier\n",
    "r = 0.05\n",
    "sigma = 0.15\n",
    "T = 0.25\n",
    "m = 50\n",
    "n = 100000\n",
    "dt = T / m\n",
    "\n",
    "# Standard Monte Carlo\n",
    "def simulate_gbm(S0, r, sigma, T, m, n):\n",
    "    dt = T / m\n",
    "    S = np.zeros((n, m+1))\n",
    "    S[:, 0] = S0\n",
    "    for t in range(1, m+1):\n",
    "        Z = np.random.normal(0, 1, n)\n",
    "        S[:, t] = S[:, t-1] * np.exp((r - 0.5 * sigma**2) * dt + sigma * np.sqrt(dt) * Z)\n",
    "    return S\n",
    "\n",
    "S_paths = simulate_gbm(S0, r, sigma, T, m, n)\n",
    "M = np.min(S_paths[:, 1:], axis=1)\n",
    "S_T = S_paths[:, -1]\n",
    "\n",
    "std_mc = {}\n",
    "for K, H in zip(K_values, H_values):\n",
    "    payoffs = np.exp(-r * T) * np.where((S_T > K) & (M < H), 1, 0)\n",
    "    option_price = np.mean(payoffs)\n",
    "    standard_error = np.std(payoffs) / np.sqrt(n)\n",
    "    std_mc[(K, H)] = standard_error\n",
    "    print(f\"H = {H}, K = {K}, Option Price = {option_price:.4f}, stdErr = {standard_error:.4f}\")\n"
   ]
  },
  {
   "cell_type": "markdown",
   "metadata": {},
   "source": [
    "(b)\n",
    "- (a)"
   ]
  },
  {
   "cell_type": "markdown",
   "metadata": {},
   "source": [
    "$$\n",
    "\\begin{align*}\n",
    "\\mathbb{E}^\\mathbb{Q}[e^{-rT}\\mathbb{1}_{\\{S_T > K\\}}] &= e^{-rT}\\mathbb{P}(S_T > K)\n",
    "\\\\\n",
    "&=e^{-rT} \\Phi(d_2)\n",
    "\\\\\n",
    "\\text{where  } d_2&=\\frac{log(\\frac{S_0}{K})+(r-0.5\\sigma^2)T}{\\sigma \\sqrt(T)}\n",
    "\n",
    "\\end{align*} \n",
    "$$"
   ]
  },
  {
   "cell_type": "code",
   "execution_count": 7,
   "metadata": {},
   "outputs": [],
   "source": [
    "# Digital option price using Black-Scholes formula\n",
    "def digital_call_price(S, K, r, sigma, T):\n",
    "    if T == 0:\n",
    "        return (S > K) * 1\n",
    "    else:\n",
    "        d2 = (np.log(S / K) + (r - 0.5 * sigma**2) * T) / (sigma * np.sqrt(T))\n",
    "        return np.exp(-r * T) * stats.norm.cdf(d2)"
   ]
  },
  {
   "cell_type": "markdown",
   "metadata": {},
   "source": [
    "- (b)\n",
    "- (c)"
   ]
  },
  {
   "cell_type": "code",
   "execution_count": 8,
   "metadata": {},
   "outputs": [
    {
     "name": "stdout",
     "output_type": "stream",
     "text": [
      "T = 0.25, m = 50, H = 94, K = 96, Price = 0.3006 Variance Ratio: 8.0273\n",
      "T = 0.25, m = 50, H = 90, K = 96, Price = 0.0425 Variance Ratio: 9.1370\n",
      "T = 0.25, m = 50, H = 85, K = 96, Price = 0.0005 Variance Ratio: 58.9051\n",
      "T = 0.25, m = 50, H = 90, K = 106, Price = 0.0013 Variance Ratio: 147.2727\n"
     ]
    }
   ],
   "source": [
    "# Conditional Monte Carlo\n",
    "for K, H in zip(K_values, H_values):\n",
    "    payoffs_cmc = np.zeros(n)\n",
    "    for i in range(n):\n",
    "        path = S_paths[i, :]\n",
    "        if np.any(path < H):\n",
    "            tau_idx = np.where(path < H)[0][0]\n",
    "            tau = tau_idx * dt\n",
    "            S_tau = path[tau_idx]\n",
    "            digital_price = digital_call_price(S_tau, K, r, sigma, T - tau)\n",
    "            payoffs_cmc[i] = np.exp(-r * tau) * digital_price\n",
    "\n",
    "    option_price_cmc = np.mean(payoffs_cmc)\n",
    "    standard_error_cmc = np.std(payoffs_cmc) / np.sqrt(n)\n",
    "\n",
    "    print(f\"T = {T}, m = {m}, H = {H}, K = {K}, Price = {option_price_cmc:.4f} Variance Ratio: {(std_mc[(K, H)] / standard_error_cmc)**2:.4f}\")"
   ]
  },
  {
   "cell_type": "markdown",
   "metadata": {},
   "source": [
    "**Problem #3** Discrete versus continuous pricing"
   ]
  },
  {
   "cell_type": "code",
   "execution_count": 9,
   "metadata": {},
   "outputs": [],
   "source": [
    "# Parameters\n",
    "S0 = 100\n",
    "K = 100\n",
    "H = 95\n",
    "sigma = 0.30\n",
    "r = 0.10\n",
    "T = 0.2\n",
    "n_simulations = 100000\n",
    "N_values = [25, 50]\n",
    "\n",
    "def bs_call_price(S0, K, sigma, r, T):\n",
    "    if T == 0:\n",
    "        return max(S0 - K, 0)\n",
    "    else:\n",
    "        d1 = (np.log(S0/ K) + (r + 0.5 * sigma**2) * T) / (sigma * np.sqrt(T))\n",
    "        d2 = d1 - sigma * np.sqrt(T)\n",
    "        return S0 * stats.norm.cdf(d1) - K * np.exp(-r * T) * stats.norm.cdf(d2)\n",
    "\n",
    "def down_and_in_call(S0, K, H, sigma, r, T):\n",
    "    lamb = (r + sigma**2 / 2) / sigma**2\n",
    "    y = np.log(H**2 / (S0 * K)) / (sigma * np.sqrt(T)) + lamb * sigma * np.sqrt(T)\n",
    "    return S0 * (H / S0)**(2 * lamb) * stats.norm.cdf(y) - K * np.exp(-r * T) * (H / S0)**(2 * lamb - 2) * stats.norm.cdf(y - sigma * np.sqrt(T))"
   ]
  },
  {
   "cell_type": "code",
   "execution_count": 10,
   "metadata": {},
   "outputs": [
    {
     "name": "stdout",
     "output_type": "stream",
     "text": [
      "The closed-form of down and in call price = 1.9466\n"
     ]
    }
   ],
   "source": [
    "print(f\"The closed-form of down and in call price = {down_and_in_call(S0, K, H, sigma, r, T):.4f}\")"
   ]
  },
  {
   "cell_type": "markdown",
   "metadata": {},
   "source": [
    "(a)"
   ]
  },
  {
   "cell_type": "code",
   "execution_count": 11,
   "metadata": {},
   "outputs": [
    {
     "name": "stdout",
     "output_type": "stream",
     "text": [
      "Standard Monte Carlo price for N = 25: 1.2391, stdErr = 0.0124\n",
      "Standard Monte Carlo price for N = 50: 1.4542, stdErr = 0.0136\n"
     ]
    }
   ],
   "source": [
    "# Function to simulate price paths\n",
    "def simulate_paths(S0, r, sigma, T, N, n_simulations):\n",
    "    dt = T / N\n",
    "    paths = np.zeros((n_simulations, N + 1))\n",
    "    paths[:, 0] = S0\n",
    "    for t in range(1, N + 1):\n",
    "        z = np.random.normal(0, 1, n_simulations)\n",
    "        paths[:, t] = paths[:, t-1] * np.exp((r - 0.5 * sigma**2) * dt + sigma * np.sqrt(dt) * z)\n",
    "    return paths\n",
    "\n",
    "# Standard Monte Carlo\n",
    "for N in N_values:\n",
    "    paths = simulate_paths(S0, r, sigma, T, N, n_simulations)\n",
    "    payoffs_pv = np.exp(-r * T)  * np.maximum(paths[:, -1] - K, 0) * (np.min(paths, axis=1) < H)\n",
    "    price = np.mean(payoffs_pv)\n",
    "    stdErr = np.std(payoffs_pv, ddof = 1) / np.sqrt(n)\n",
    "    print(f\"Standard Monte Carlo price for N = {N}: {price:.4f}, stdErr = {stdErr:.4f}\")"
   ]
  },
  {
   "cell_type": "markdown",
   "metadata": {},
   "source": [
    "(b)"
   ]
  },
  {
   "cell_type": "code",
   "execution_count": 12,
   "metadata": {},
   "outputs": [
    {
     "name": "stdout",
     "output_type": "stream",
     "text": [
      "Conditional Monte Carlo price for N = 25: 1.2575, stdErr = 0.0040\n",
      "Conditional Monte Carlo price for N = 50: 1.4317, stdErr = 0.0042\n"
     ]
    }
   ],
   "source": [
    "# Conditional Monte Carlo\n",
    "for N in N_values:\n",
    "    paths = simulate_paths(S0, r, sigma, T, N, n_simulations)\n",
    "    conditional_payoffs = np.zeros(n_simulations)\n",
    "    for i in range(n_simulations):\n",
    "        if np.min(paths[i, :]) < H:\n",
    "            \n",
    "            first_hit = np.where(paths[i, :] < H)[0][0]\n",
    "            conditional_payoffs[i] = bs_call_price(paths[i, first_hit], K, sigma, r, T * (N - first_hit) / N)\n",
    "    payoffs_pv = np.exp(-r * T * (first_hit / N)) * conditional_payoffs\n",
    "    price = np.mean(payoffs_pv)\n",
    "    stdErr = np.std(payoffs_pv, ddof = 1) / np.sqrt(n)\n",
    "    print(f\"Conditional Monte Carlo price for N = {N}: {price:.4f}, stdErr = {stdErr:.4f}\")"
   ]
  },
  {
   "cell_type": "markdown",
   "metadata": {},
   "source": [
    "(c)"
   ]
  },
  {
   "cell_type": "code",
   "execution_count": 13,
   "metadata": {},
   "outputs": [
    {
     "name": "stdout",
     "output_type": "stream",
     "text": [
      "Conditional Monte Carlo with Importance Sampling price for N = 25, theta = -0.45: 1.2635, stdErr = 0.0017\n",
      "Conditional Monte Carlo with Importance Sampling price for N = 50, theta = -0.3: 1.4183, stdErr = 0.0015\n"
     ]
    }
   ],
   "source": [
    "# Conditional Monte Carlo with Importance Sampling\n",
    "theta_values = [-0.45, -0.30]\n",
    "for theta, N in zip(theta_values, N_values):\n",
    "    dt = T / N\n",
    "    paths = np.zeros((n_simulations, N + 1))\n",
    "    paths[:, 0] = S0\n",
    "\n",
    "    z = np.random.normal(theta, 1, (n_simulations, N))\n",
    "    paths[:, 1:] = S0 * np.exp(np.cumsum((r - 0.5 * sigma**2) * dt + sigma * np.sqrt(dt) * z, axis = 1))\n",
    "\n",
    "    conditional_payoffs = np.zeros(n_simulations)\n",
    "    for i in range(n_simulations):\n",
    "        if np.min(paths[i, :]) < H:\n",
    "            first_hit = np.where(paths[i, :] < H)[0][0]\n",
    "            conditional_payoffs[i] = bs_call_price(paths[i, first_hit], K, sigma, r, T * (N - first_hit) / N) * np.prod(np.exp(-theta * z[i, :first_hit] + 0.5 * theta**2))\n",
    "    payoffs_pv = np.exp(-r * T * (first_hit / N)) * conditional_payoffs\n",
    "    price = np.mean(payoffs_pv)\n",
    "    stdErr = np.std(payoffs_pv, ddof = 1) / np.sqrt(n)\n",
    "    print(f\"Conditional Monte Carlo with Importance Sampling price for N = {N}, theta = {theta}: {price:.4f}, stdErr = {stdErr:.4f}\")\n"
   ]
  },
  {
   "cell_type": "markdown",
   "metadata": {},
   "source": [
    "**Problem #4** Practice on Conditional Monte Carlo"
   ]
  },
  {
   "cell_type": "markdown",
   "metadata": {},
   "source": [
    "(a)"
   ]
  },
  {
   "cell_type": "code",
   "execution_count": 14,
   "metadata": {},
   "outputs": [
    {
     "name": "stdout",
     "output_type": "stream",
     "text": [
      "(alpha, psi) = (0.1, 0.1), call price = 10.4516, stdErr = 0.1488\n",
      "(alpha, psi) = (0.2, 1), call price = 10.5457, stdErr = 0.1551\n"
     ]
    }
   ],
   "source": [
    "# Parameters\n",
    "S0 = K = 100\n",
    "r = 0.05\n",
    "T = 1\n",
    "v0 = 0.04\n",
    "alpha_values = [0.1, 0.2]\n",
    "psi_values = [0.1, 1]\n",
    "N = 50  # Time steps\n",
    "M = 10000  # Number of paths\n",
    "dt = T / N\n",
    "\n",
    "for alpha, psi in zip(alpha_values, psi_values):\n",
    "    # Initialize arrays for paths\n",
    "    S_paths = np.zeros((M, N+1))\n",
    "    v_paths = np.zeros((M, N+1))\n",
    "\n",
    "    # Set initial values\n",
    "    S_paths[:, 0] = S0\n",
    "    v_paths[:, 0] = v0\n",
    "\n",
    "    # Simulate paths\n",
    "    for t in range(1, N+1):\n",
    "        Z1 = np.random.normal(0, 1, M)\n",
    "        Z2 = np.random.normal(0, 1, M)\n",
    "\n",
    "        v_paths[:, t] = v_paths[:, t-1] * np.exp((alpha - 0.5 * psi**2) * dt + psi * np.sqrt(dt) * Z1)\n",
    "        S_paths[:, t] = S_paths[:, t-1] + r * (S_paths[:, t-1]) * dt + np.sqrt(v_paths[:, t-1] * dt) * (S_paths[:, t-1]) * Z2\n",
    "\n",
    "    # Compute option prices\n",
    "    payoffs = np.maximum(S_paths[:, -1] - K, 0)\n",
    "    discounted_payoffs = np.exp(-r * T) * payoffs\n",
    "    price_mc = np.mean(discounted_payoffs)\n",
    "    std_error_mc = np.std(discounted_payoffs) / np.sqrt(M)\n",
    "\n",
    "    print(f\"(alpha, psi) = ({alpha}, {psi}), call price = {price_mc:.4f}, stdErr = {std_error_mc:.4f}\")\n"
   ]
  },
  {
   "cell_type": "markdown",
   "metadata": {},
   "source": [
    "(b)"
   ]
  },
  {
   "cell_type": "code",
   "execution_count": 15,
   "metadata": {},
   "outputs": [
    {
     "name": "stdout",
     "output_type": "stream",
     "text": [
      "(alpha, psi) = (0.1, 0.1), call price = 10.6457, stdErr = 0.0023\n",
      "(alpha, psi) = (0.2, 1), call price = 10.5321, stdErr = 0.0233\n"
     ]
    }
   ],
   "source": [
    "for alpha, psi in zip(alpha_values, psi_values):\n",
    "    # Initialize arrays for paths\n",
    "    v_paths = np.zeros((M, N+1))\n",
    "\n",
    "    # Set initial values\n",
    "    v_paths[:, 0] = v0\n",
    "\n",
    "    # Simulate paths\n",
    "    for t in range(1, N+1):\n",
    "        Z2 = np.random.normal(0, 1, M)\n",
    "        \n",
    "        v_paths[:, t] = v_paths[:, t-1] * np.exp((alpha - 0.5 * psi**2) * dt + psi * np.sqrt(dt) * Z2)\n",
    "\n",
    "    sigma_avg = np.sqrt(np.sum(v_paths[:, 1:], axis = 1) / N)\n",
    "    call_prices = bs_call_price(S0, K, sigma_avg, r, T)\n",
    "\n",
    "    price_cmc = np.mean(call_prices)\n",
    "    stdErr_cmc = np.std(call_prices, ddof = 1) / np.sqrt(M)\n",
    "    print(f\"(alpha, psi) = ({alpha}, {psi}), call price = {price_cmc:.4f}, stdErr = {stdErr_cmc:.4f}\")"
   ]
  },
  {
   "cell_type": "markdown",
   "metadata": {},
   "source": [
    "**Problem #5** Practice on interest rate derivatives and CIR"
   ]
  },
  {
   "cell_type": "markdown",
   "metadata": {},
   "source": [
    "(a)"
   ]
  },
  {
   "cell_type": "code",
   "execution_count": 16,
   "metadata": {},
   "outputs": [
    {
     "name": "stdout",
     "output_type": "stream",
     "text": [
      "Zero-coupon bond price = 0.9601, stdErr = 0.0003\n"
     ]
    }
   ],
   "source": [
    "# CIR model parameters\n",
    "alpha = 0.2\n",
    "sigma = 0.1\n",
    "b = 0.05\n",
    "r0 = 0.04\n",
    "\n",
    "# Simulation parameters\n",
    "T = 1\n",
    "n_paths = 1000\n",
    "n_steps = 50\n",
    "dt = T / n_steps\n",
    "\n",
    "# Initialize the rate paths\n",
    "rates = np.zeros((n_paths, n_steps + 1))\n",
    "rates[:, 0] = r0\n",
    "\n",
    "# Simulate the paths using the CIR model\n",
    "for t in range(1, n_steps + 1):\n",
    "    z = np.random.normal(size=n_paths)\n",
    "    rates[:, t] = rates[:, t-1] + alpha * (b - rates[:, t-1]) * dt + sigma * np.sqrt(np.maximum(rates[:, t-1], 0)) * np.sqrt(dt) * z\n",
    "\n",
    "# Calculate zero-coupon bond prices\n",
    "zero_coupon_prices = np.exp(-np.sum(rates[:, :-1], axis=1) * dt)\n",
    "\n",
    "# Average the zero-coupon bond prices\n",
    "zero_coupon_price = np.mean(zero_coupon_prices)\n",
    "zero_coupon_price_std = np.std(zero_coupon_prices) / np.sqrt(n_paths)\n",
    "\n",
    "print(f\"Zero-coupon bond price = {zero_coupon_price:.4f}, stdErr = {zero_coupon_price_std:.4f}\")"
   ]
  },
  {
   "cell_type": "markdown",
   "metadata": {},
   "source": [
    "(b)"
   ]
  },
  {
   "cell_type": "code",
   "execution_count": 17,
   "metadata": {},
   "outputs": [
    {
     "name": "stdout",
     "output_type": "stream",
     "text": [
      "Caplet price = 0.000312, stdErr = 0.000023\n"
     ]
    }
   ],
   "source": [
    "# Caplet parameters\n",
    "L = 1\n",
    "delta = 1 / 12\n",
    "R = 0.05\n",
    "t = 1\n",
    "caplet_times = int(t / dt)\n",
    "\n",
    "# Calculate the caplet payoff at t = 1\n",
    "payoffs = L * delta * np.maximum(0, rates[:, caplet_times] - R)\n",
    "\n",
    "# Discount the payoffs back to the present\n",
    "discounted_payoffs = payoffs * np.exp(-np.sum(rates[:, :caplet_times], axis=1) * dt)\n",
    "\n",
    "# Average the discounted payoffs to get the caplet price\n",
    "caplet_price = np.mean(discounted_payoffs)\n",
    "caplet_price_std = np.std(discounted_payoffs) / np.sqrt(n_paths)\n",
    "print(f\"Caplet price = {caplet_price:.6f}, stdErr = {caplet_price_std:.6f}\")"
   ]
  },
  {
   "cell_type": "markdown",
   "metadata": {},
   "source": [
    "##### Appendix: timestamp"
   ]
  },
  {
   "cell_type": "code",
   "execution_count": 18,
   "metadata": {},
   "outputs": [
    {
     "name": "stdout",
     "output_type": "stream",
     "text": [
      "Generated on 2024-05-27 22:23:41.019279\n"
     ]
    }
   ],
   "source": [
    "from datetime import datetime\n",
    "\n",
    "print(f\"Generated on {datetime.now()}\")"
   ]
  }
 ],
 "metadata": {
  "kernelspec": {
   "display_name": "SimulationMethods",
   "language": "python",
   "name": "python3"
  },
  "language_info": {
   "codemirror_mode": {
    "name": "ipython",
    "version": 3
   },
   "file_extension": ".py",
   "mimetype": "text/x-python",
   "name": "python",
   "nbconvert_exporter": "python",
   "pygments_lexer": "ipython3",
   "version": "3.11.9"
  }
 },
 "nbformat": 4,
 "nbformat_minor": 2
}
